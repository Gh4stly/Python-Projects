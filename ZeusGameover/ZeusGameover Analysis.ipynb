{
 "cells": [
  {
   "cell_type": "markdown",
   "metadata": {},
   "source": [
    "# Analysis of Zeus/Gameover HTTP Connections\n",
    "\n",
    "Dataset collected by Anonymous using Bro. Preprocessed with bash: sed -r 's/^#fields\\t//' http.log | sed '/#/d' | tr \"\\t\" \",\" > http_noG.csv\n",
    "\n",
    "Dataset further cleaned by removing google searches. It seems unlikely that Zeus/Gameover was making searches. May add back in at a later date. See http_G.csv."
   ]
  },
  {
   "cell_type": "code",
   "execution_count": 2,
   "metadata": {},
   "outputs": [],
   "source": [
    "import pandas as pd\n",
    "import matplotlib.pyplot as plt\n",
    "import numpy as np"
   ]
  },
  {
   "cell_type": "code",
   "execution_count": 3,
   "metadata": {},
   "outputs": [],
   "source": [
    "df = pd.read_csv(\"http_noG.csv\")"
   ]
  },
  {
   "cell_type": "code",
   "execution_count": 4,
   "metadata": {},
   "outputs": [
    {
     "name": "stdout",
     "output_type": "stream",
     "text": [
      "<class 'pandas.core.frame.DataFrame'>\n",
      "RangeIndex: 78 entries, 0 to 77\n",
      "Data columns (total 27 columns):\n",
      " #   Column             Non-Null Count  Dtype  \n",
      "---  ------             --------------  -----  \n",
      " 0   ts                 78 non-null     float64\n",
      " 1   uid                78 non-null     object \n",
      " 2   id.orig_h          78 non-null     object \n",
      " 3   id.orig_p          78 non-null     int64  \n",
      " 4   id.resp_h          78 non-null     object \n",
      " 5   id.resp_p          78 non-null     int64  \n",
      " 6   trans_depth        78 non-null     int64  \n",
      " 7   method             78 non-null     object \n",
      " 8   host               78 non-null     object \n",
      " 9   uri                78 non-null     object \n",
      " 10  referrer           78 non-null     object \n",
      " 11  user_agent         78 non-null     object \n",
      " 12  request_body_len   78 non-null     int64  \n",
      " 13  response_body_len  78 non-null     int64  \n",
      " 14  status_code        78 non-null     int64  \n",
      " 15  status_msg         78 non-null     object \n",
      " 16  info_code          78 non-null     object \n",
      " 17  info_msg           78 non-null     object \n",
      " 18  filename           78 non-null     object \n",
      " 19  tags               78 non-null     object \n",
      " 20  username           78 non-null     object \n",
      " 21  password           78 non-null     object \n",
      " 22  proxied            78 non-null     object \n",
      " 23  orig_fuids         78 non-null     object \n",
      " 24  orig_mime_types    78 non-null     object \n",
      " 25  resp_fuids         78 non-null     object \n",
      " 26  resp_mime_types    78 non-null     object \n",
      "dtypes: float64(1), int64(6), object(20)\n",
      "memory usage: 10.4+ KB\n"
     ]
    }
   ],
   "source": [
    "df.info()"
   ]
  },
  {
   "cell_type": "markdown",
   "metadata": {},
   "source": [
    "OK so we can see that the dataset was read properly and everything is of a proper type. Now the question is: What are we looking for? What is the purpose of us going through this dataset?\n",
    "\n",
    "Just remember to OSEMN. Obtain, Scrub, Explore, Model, iNterpret.\n",
    "We obtained the data already and processed it into a format we can use. We scrubbed out potentially useless data, though we did save it to a different file just in case. Now we need to know what we have and what it looks like. We also need to do some research on Gameover Zeus and see what behaviors we should look for. "
   ]
  },
  {
   "cell_type": "code",
   "execution_count": 5,
   "metadata": {},
   "outputs": [
    {
     "name": "stdout",
     "output_type": "stream",
     "text": [
      "             ts                 uid     id.orig_h  id.orig_p       id.resp_h  \\\n",
      "0  1.328383e+09  C2zKxQ1qgZrLXH5Aa6  172.29.0.116       1488  91.191.168.201   \n",
      "1  1.328383e+09   CA7q4Acu02edsdpw7  172.29.0.116       1489   206.123.104.4   \n",
      "2  1.328383e+09   CJujChRafzg9JE4Q3  172.29.0.116       1490  209.59.217.102   \n",
      "3  1.328383e+09   CJujChRafzg9JE4Q3  172.29.0.116       1490  209.59.217.102   \n",
      "4  1.328383e+09   CJujChRafzg9JE4Q3  172.29.0.116       1490  209.59.217.102   \n",
      "\n",
      "   id.resp_p  trans_depth method                   host  \\\n",
      "0         80            1    GET    pinardisticaret.com   \n",
      "1         80            1    GET  talenttechcareers.com   \n",
      "2         80            1    GET           telecrop.com   \n",
      "3         80            2    GET           telecrop.com   \n",
      "4         80            3    GET           telecrop.com   \n",
      "\n",
      "                                 uri  ... info_msg filename     tags  \\\n",
      "0               /jqCBSmVw/index.html  ...        -        -  (empty)   \n",
      "1                    /iwUsQfez/js.js  ...        -        -  (empty)   \n",
      "2  /search.php?page=73a07bcb51f4be71  ...        -        -  (empty)   \n",
      "3           /content/adfp2.php?f=126  ...        -        -  (empty)   \n",
      "4                 /content/field.swf  ...        -        -  (empty)   \n",
      "\n",
      "   username  password proxied orig_fuids orig_mime_types          resp_fuids  \\\n",
      "0         -         -       -          -               -   FPWaxJBoEuq1FLl03   \n",
      "1         -         -       -          -               -   FVuEMLaygikzptk51   \n",
      "2         -         -       -          -               -  FLtdu02jIdjZ2yu7za   \n",
      "3         -         -       -          -               -  FiyV3h3wxrgjJyGrbl   \n",
      "4         -         -       -          -               -  Fj1K3j2ihROm9jP1Ok   \n",
      "\n",
      "                 resp_mime_types  \n",
      "0                      text/html  \n",
      "1                     text/plain  \n",
      "2                      text/html  \n",
      "3                application/pdf  \n",
      "4  application/x-shockwave-flash  \n",
      "\n",
      "[5 rows x 27 columns]\n"
     ]
    }
   ],
   "source": [
    "print(df.head())"
   ]
  },
  {
   "cell_type": "code",
   "execution_count": 43,
   "metadata": {},
   "outputs": [
    {
     "name": "stdout",
     "output_type": "stream",
     "text": [
      "              ts                 uid     id.orig_h  id.orig_p       id.resp_h  \\\n",
      "1   1.328383e+09   CA7q4Acu02edsdpw7  172.29.0.116       1489   206.123.104.4   \n",
      "3   1.328383e+09   CJujChRafzg9JE4Q3  172.29.0.116       1490  209.59.217.102   \n",
      "4   1.328383e+09   CJujChRafzg9JE4Q3  172.29.0.116       1490  209.59.217.102   \n",
      "26  1.328383e+09  CPEfxD2ERLvqNKIVnf  172.29.0.116       1503  209.59.217.102   \n",
      "27  1.328383e+09  C5yXhh1qvtV0whAMP8  172.29.0.116       1520  209.59.217.102   \n",
      "\n",
      "    id.resp_p  trans_depth method                   host  \\\n",
      "1          80            1    GET  talenttechcareers.com   \n",
      "3          80            2    GET           telecrop.com   \n",
      "4          80            3    GET           telecrop.com   \n",
      "26         80            2    GET           telecrop.com   \n",
      "27         80            1    GET           telecrop.com   \n",
      "\n",
      "                         uri  ... info_msg filename     tags  username  \\\n",
      "1            /iwUsQfez/js.js  ...        -        -  (empty)         -   \n",
      "3   /content/adfp2.php?f=126  ...        -        -  (empty)         -   \n",
      "4         /content/field.swf  ...        -        -  (empty)         -   \n",
      "26  /content/adfp2.php?f=126  ...        -        -  (empty)         -   \n",
      "27        /content/field.swf  ...        -        -  (empty)         -   \n",
      "\n",
      "    password proxied orig_fuids orig_mime_types          resp_fuids  \\\n",
      "1          -       -          -               -   FVuEMLaygikzptk51   \n",
      "3          -       -          -               -  FiyV3h3wxrgjJyGrbl   \n",
      "4          -       -          -               -  Fj1K3j2ihROm9jP1Ok   \n",
      "26         -       -          -               -  Fb2zCY2aOwDhOdinWe   \n",
      "27         -       -          -               -                   -   \n",
      "\n",
      "                  resp_mime_types  \n",
      "1                      text/plain  \n",
      "3                 application/pdf  \n",
      "4   application/x-shockwave-flash  \n",
      "26                application/pdf  \n",
      "27                              -  \n",
      "\n",
      "[5 rows x 27 columns]\n"
     ]
    }
   ],
   "source": [
    "\n",
    "print(df.loc[df['referrer'] != '-'])"
   ]
  },
  {
   "cell_type": "code",
   "execution_count": 44,
   "metadata": {},
   "outputs": [
    {
     "name": "stdout",
     "output_type": "stream",
     "text": [
      "                     host                                           referrer\n",
      "1   talenttechcareers.com     http://pinardisticaret.com/jqCBSmVw/index.html\n",
      "3            telecrop.com  http://telecrop.com/search.php?page=73a07bcb51...\n",
      "4            telecrop.com  http://telecrop.com/search.php?page=73a07bcb51...\n",
      "26           telecrop.com  http://telecrop.com/search.php?page=73a07bcb51...\n",
      "27           telecrop.com  http://telecrop.com/search.php?page=73a07bcb51...\n",
      "\n",
      "http://pinardisticaret.com/jqCBSmVw/index.html\n",
      "http://telecrop.com/search.php?page=73a07bcb51f4be71\n",
      "http://telecrop.com/search.php?page=73a07bcb51f4be71\n",
      "http://telecrop.com/search.php?page=73a07bcb51f4be71\n",
      "http://telecrop.com/search.php?page=73a07bcb51f4be71\n"
     ]
    }
   ],
   "source": [
    "host_ref = df[['host','referrer']]\n",
    "print(host_ref[host_ref['referrer']!= '-'])\n",
    "print()\n",
    "refs = list(host_ref['referrer'].loc[host_ref['referrer'] != '-'])\n",
    "for ref in refs :\n",
    "    print(ref)"
   ]
  },
  {
   "cell_type": "markdown",
   "metadata": {},
   "source": [
    "The searches in telecrop.com seem interesting. My guess is that the searches are being used to serve up exploit kits."
   ]
  },
  {
   "cell_type": "code",
   "execution_count": 42,
   "metadata": {},
   "outputs": [
    {
     "name": "stdout",
     "output_type": "stream",
     "text": [
      "            host                                uri  \\\n",
      "2   telecrop.com  /search.php?page=73a07bcb51f4be71   \n",
      "3   telecrop.com           /content/adfp2.php?f=126   \n",
      "4   telecrop.com                 /content/field.swf   \n",
      "6   telecrop.com                  /content/rino.jar   \n",
      "7   telecrop.com                         /com.class   \n",
      "8   telecrop.com                         /edu.class   \n",
      "9   telecrop.com                         /net.class   \n",
      "10  telecrop.com                         /org.class   \n",
      "11  telecrop.com                   /d.php?f=126&e=0   \n",
      "18  telecrop.com  /search.php?page=73a07bcb51f4be71   \n",
      "26  telecrop.com           /content/adfp2.php?f=126   \n",
      "27  telecrop.com                 /content/field.swf   \n",
      "28  telecrop.com                   /d.php?f=126&e=4   \n",
      "29  telecrop.com                  /content/rino.jar   \n",
      "31  telecrop.com                         /com.class   \n",
      "33  telecrop.com                         /edu.class   \n",
      "34  telecrop.com                         /net.class   \n",
      "35  telecrop.com                         /org.class   \n",
      "36  telecrop.com                   /d.php?f=126&e=0   \n",
      "\n",
      "                  resp_mime_types  \n",
      "2                       text/html  \n",
      "3                 application/pdf  \n",
      "4   application/x-shockwave-flash  \n",
      "6                 application/zip  \n",
      "7                       text/html  \n",
      "8                       text/html  \n",
      "9                       text/html  \n",
      "10                      text/html  \n",
      "11          application/x-dosexec  \n",
      "18                      text/html  \n",
      "26                application/pdf  \n",
      "27                              -  \n",
      "28          application/x-dosexec  \n",
      "29                              -  \n",
      "31                      text/html  \n",
      "33                      text/html  \n",
      "34                      text/html  \n",
      "35                      text/html  \n",
      "36          application/x-dosexec  \n"
     ]
    }
   ],
   "source": [
    "print(df[['host','uri','resp_mime_types']].loc[host_ref['host'] == 'telecrop.com'])"
   ]
  },
  {
   "cell_type": "markdown",
   "metadata": {},
   "source": [
    "So theres a few things that are catching my eye. \n",
    "* telecrop.com/search.php?page=73a07bcb51f4be71\n",
    "* telecrop.com/content/adfp2.php?f=126\n",
    "* telecrop.com/d.php?f=126&e=4 \n",
    "* telecrop.com/content/rino.jar \n",
    "\n",
    "According to my research rino.jar is a Blackhole java exploit kit. It seems like Gameover Zeus is performing the 'search' with telecrop with a specific md5 which corresponds to the exploit kit. The bot seems like its downloading configuration files with the .class files which come immediately after the rino.jar gets downloaded.\n",
    "\n",
    "What I also find interesting is the adfp2.php?f=126. They're making a call with a specific parameter which returns an application/pdf mime type. f=126 gets called again with d.php?f=126 but with the additional parameter &e=4 or &e=0 which corresponds to application/x-dosexec mime type. It is likely that the bot is configuring itself.\n",
    "\n",
    "According to packetsecurity.com d.php?f=126&e=0 refers to Blackhole downloading contacts.exe \n",
    "\n",
    "And adfp2.php?f=126 is Blackhole downloading a pdf exploit\n",
    "\n",
    "According to Michael Sandee of Fox IT Gameover Zeus dynamically configures itself through the victims browser by adding in new fields to the url. This means we'll need to check out the google searches and see if its working with those as well."
   ]
  },
  {
   "cell_type": "code",
   "execution_count": 20,
   "metadata": {},
   "outputs": [
    {
     "name": "stdout",
     "output_type": "stream",
     "text": [
      "<bound method DataFrame.info of              ts                 uid     id.orig_h  id.orig_p       id.resp_h  \\\n",
      "0  1.328383e+09  C0R8i7194WxLU2yUA2  172.29.0.116       1537  74.125.113.106   \n",
      "1  1.328383e+09  CtsKmX28RGJhGaII2k  172.29.0.116       1542  74.125.113.106   \n",
      "2  1.328383e+09  Cz8h1R1A3fQ9FEEXS3  172.29.0.116       1544  74.125.113.106   \n",
      "3  1.328383e+09  CcAyOQ1ZeNVzsq20S3  172.29.0.116       1546  74.125.113.106   \n",
      "4  1.328383e+09    CW9aMM9cvwpy0j4Q  172.29.0.116       1547  74.125.113.106   \n",
      "5  1.328385e+09  CEqUJK2fzgoC2cCozf  172.29.0.116       1613  74.125.113.106   \n",
      "6  1.328385e+09  CZKpbl4VeTNkPtL3Q9  172.29.0.116       1617   94.63.240.137   \n",
      "7  1.328385e+09  CHuOHu1LpeWBI3FIc2  172.29.0.116       1621   94.63.240.137   \n",
      "\n",
      "   id.resp_p  trans_depth method            host  \\\n",
      "0         80            1    GET  www.google.com   \n",
      "1         80            1    GET  www.google.com   \n",
      "2         80            1    GET  www.google.com   \n",
      "3         80            1    GET  www.google.com   \n",
      "4         80            1    GET  www.google.com   \n",
      "5         80            1    GET  www.google.com   \n",
      "6         80            1    GET  www.google.com   \n",
      "7         80            1    GET  www.google.com   \n",
      "\n",
      "                                      uri  ... info_msg filename     tags  \\\n",
      "0                                       /  ...        -        -  (empty)   \n",
      "1                                       /  ...        -        -  (empty)   \n",
      "2                                       /  ...        -        -  (empty)   \n",
      "3                                       /  ...        -        -  (empty)   \n",
      "4                                       /  ...        -        -  (empty)   \n",
      "5                                       /  ...        -        -  (empty)   \n",
      "6  /search?sourceid=chrome&ie=UTF-8&q=buy  ...        -        -  (empty)   \n",
      "7  /search?sourceid=chrome&ie=UTF-8&q=buy  ...        -        -  (empty)   \n",
      "\n",
      "   username password proxied orig_fuids orig_mime_types          resp_fuids  \\\n",
      "0         -        -       -          -               -  FGrUGg3lpKLrvoO8mk   \n",
      "1         -        -       -          -               -   FbKskKk8Wvpsge1Ph   \n",
      "2         -        -       -          -               -  F3V0ff1ZWoA8tD0j02   \n",
      "3         -        -       -          -               -   F1tFtIoDkfIkj1vQa   \n",
      "4         -        -       -          -               -  FMf8Lo4BzAjjk6vo76   \n",
      "5         -        -       -          -               -  FKnHxs4K7mfKt6DFq6   \n",
      "6         -        -       -          -               -  FPtARg2Du72pZGj8L3   \n",
      "7         -        -       -          -               -                   -   \n",
      "\n",
      "  resp_mime_types  \n",
      "0       text/html  \n",
      "1       text/html  \n",
      "2       text/html  \n",
      "3       text/html  \n",
      "4       text/html  \n",
      "5       text/html  \n",
      "6       text/html  \n",
      "7               -  \n",
      "\n",
      "[8 rows x 27 columns]>\n"
     ]
    }
   ],
   "source": [
    "df2 = pd.read_csv('http_G.csv')\n",
    "print(df2.info)"
   ]
  },
  {
   "cell_type": "markdown",
   "metadata": {},
   "source": [
    "Ok that isn't too much help. Lets keep looking around."
   ]
  },
  {
   "cell_type": "code",
   "execution_count": 28,
   "metadata": {},
   "outputs": [
    {
     "name": "stdout",
     "output_type": "stream",
     "text": [
      "                   host               uri        resp_mime_types\n",
      "11         telecrop.com  /d.php?f=126&e=0  application/x-dosexec\n",
      "13        airplains.com         /melt.exe  application/x-dosexec\n",
      "14       airportsys.com         /melt.exe  application/x-dosexec\n",
      "15    eurostats2012.net         /melt.exe  application/x-dosexec\n",
      "28         telecrop.com  /d.php?f=126&e=4  application/x-dosexec\n",
      "32        airplains.com         /melt.exe  application/x-dosexec\n",
      "36         telecrop.com  /d.php?f=126&e=0  application/x-dosexec\n",
      "37       airportsys.com         /melt.exe  application/x-dosexec\n",
      "39        airplains.com         /melt.exe  application/x-dosexec\n",
      "40    eurostats2012.net         /melt.exe  application/x-dosexec\n",
      "43       airportsys.com         /melt.exe  application/x-dosexec\n",
      "44    eurostats2012.net         /melt.exe  application/x-dosexec\n",
      "48  dejangorgievski.com      /pomk/24.exe  application/x-dosexec\n"
     ]
    }
   ],
   "source": [
    "print(df[['host','uri','resp_mime_types']].loc[df['resp_mime_types'] == \"application/x-dosexec\"])"
   ]
  },
  {
   "cell_type": "markdown",
   "metadata": {},
   "source": [
    "Alright so we can see some more strange hosts and suspicious uris. Lets check out some of those hosts."
   ]
  },
  {
   "cell_type": "code",
   "execution_count": 33,
   "metadata": {},
   "outputs": [
    {
     "name": "stdout",
     "output_type": "stream",
     "text": [
      "             host        uri referrer\n",
      "13  airplains.com  /melt.exe        -\n",
      "32  airplains.com  /melt.exe        -\n",
      "39  airplains.com  /melt.exe        -\n"
     ]
    }
   ],
   "source": [
    "print(df[['host','uri','referrer']].loc[df['host'] == 'airplains.com'])"
   ]
  },
  {
   "cell_type": "code",
   "execution_count": 34,
   "metadata": {},
   "outputs": [
    {
     "name": "stdout",
     "output_type": "stream",
     "text": [
      "              host        uri referrer\n",
      "14  airportsys.com  /melt.exe        -\n",
      "37  airportsys.com  /melt.exe        -\n",
      "43  airportsys.com  /melt.exe        -\n"
     ]
    }
   ],
   "source": [
    "print(df[['host','uri','referrer']].loc[df['host'] == 'airportsys.com'])"
   ]
  },
  {
   "cell_type": "code",
   "execution_count": 35,
   "metadata": {},
   "outputs": [
    {
     "name": "stdout",
     "output_type": "stream",
     "text": [
      "                   host           uri referrer\n",
      "48  dejangorgievski.com  /pomk/24.exe        -\n"
     ]
    }
   ],
   "source": [
    "print(df[['host','uri','referrer']].loc[df['host'] == 'dejangorgievski.com'])"
   ]
  },
  {
   "cell_type": "code",
   "execution_count": 36,
   "metadata": {},
   "outputs": [
    {
     "name": "stdout",
     "output_type": "stream",
     "text": [
      "                 host        uri referrer\n",
      "15  eurostats2012.net  /melt.exe        -\n",
      "40  eurostats2012.net  /melt.exe        -\n",
      "44  eurostats2012.net  /melt.exe        -\n"
     ]
    }
   ],
   "source": [
    "print(df[['host','uri','referrer']].loc[df['host'] == 'eurostats2012.net'])"
   ]
  },
  {
   "cell_type": "markdown",
   "metadata": {},
   "source": [
    "I have a theory. There are urls that are being called before the bot attempts to download melt.exe. Lets check it out."
   ]
  },
  {
   "cell_type": "code",
   "execution_count": 38,
   "metadata": {},
   "outputs": [
    {
     "name": "stdout",
     "output_type": "stream",
     "text": [
      "                 host                                uri\n",
      "15  eurostats2012.net                          /melt.exe\n",
      "16        ewpetro.com                          /melt.exe\n",
      "17    www.ewpetro.com                          /melt.exe\n",
      "18       telecrop.com  /search.php?page=73a07bcb51f4be71\n",
      "19         172.29.0.1             /IGatewayDeviceDescDoc\n",
      "20         172.29.0.1               /L3ForwardingDescDoc\n",
      "21         172.29.0.1               /WanCommonIFCDescDoc\n",
      "22         172.29.0.1         /WanEthernetLinkCfgDescDoc\n",
      "23         172.29.0.1            /WanIPConnectionDescDoc\n",
      "24         172.29.0.1                  /WANIPConnCtrlUrl\n",
      "25         172.29.0.1                  /WANIPConnCtrlUrl\n",
      "26       telecrop.com           /content/adfp2.php?f=126\n",
      "27       telecrop.com                 /content/field.swf\n",
      "28       telecrop.com                   /d.php?f=126&e=4\n",
      "29       telecrop.com                  /content/rino.jar\n",
      "30    neoprenolen.com                     /pony/gate.php\n",
      "31       telecrop.com                         /com.class\n",
      "32      airplains.com                          /melt.exe\n",
      "33       telecrop.com                         /edu.class\n",
      "34       telecrop.com                         /net.class\n",
      "35       telecrop.com                         /org.class\n",
      "36       telecrop.com                   /d.php?f=126&e=0\n",
      "37     airportsys.com                          /melt.exe\n",
      "38    neoprenolen.com                     /pony/gate.php\n",
      "39      airplains.com                          /melt.exe\n",
      "40  eurostats2012.net                          /melt.exe\n",
      "41        ewpetro.com                          /melt.exe\n",
      "42    www.ewpetro.com                          /melt.exe\n",
      "43     airportsys.com                          /melt.exe\n",
      "44  eurostats2012.net                          /melt.exe\n"
     ]
    }
   ],
   "source": [
    "print(df[['host','uri']].loc[15:44])"
   ]
  },
  {
   "cell_type": "markdown",
   "metadata": {},
   "source": [
    "We can see that the bot is nabbing Pony Stealer. It also is trying to grab melt.exe. We're able to see the list of hosts that it has generated through its attempts. Lets see if its successful in grabbing melt.exe ."
   ]
  },
  {
   "cell_type": "code",
   "execution_count": 39,
   "metadata": {},
   "outputs": [
    {
     "name": "stdout",
     "output_type": "stream",
     "text": [
      "                 host        uri  response_body_len\n",
      "13      airplains.com  /melt.exe             329192\n",
      "14     airportsys.com  /melt.exe             329192\n",
      "15  eurostats2012.net  /melt.exe             329192\n",
      "16        ewpetro.com  /melt.exe                  0\n",
      "17    www.ewpetro.com  /melt.exe               4437\n",
      "32      airplains.com  /melt.exe             329192\n",
      "37     airportsys.com  /melt.exe             329192\n",
      "39      airplains.com  /melt.exe             329192\n",
      "40  eurostats2012.net  /melt.exe             329192\n",
      "41        ewpetro.com  /melt.exe                  0\n",
      "42    www.ewpetro.com  /melt.exe               4437\n",
      "43     airportsys.com  /melt.exe             329192\n",
      "44  eurostats2012.net  /melt.exe             329192\n",
      "45        ewpetro.com  /melt.exe                  0\n",
      "46    www.ewpetro.com  /melt.exe               4437\n"
     ]
    }
   ],
   "source": [
    "print(df[['host','uri','response_body_len']].loc[df['uri'] == '/melt.exe'])"
   ]
  },
  {
   "cell_type": "markdown",
   "metadata": {},
   "source": [
    "We can see that airplains, airportsys, and eurostats2012 are active. Ewpetro.com and www. ewpetro.com are likely inactive given their small response length. This will help narrow our search down when we investigate. I am unable to determine what melt.exe does. Only that Dark Bay ltd and 'Hacker's Handbook' are related to it. "
   ]
  },
  {
   "cell_type": "markdown",
   "metadata": {},
   "source": [
    "\n",
    "## Analysis\n",
    "Through the Bro logs of Gameover Zeus we are able to detect GoZ's dynamic configuration and get a sense of how the actors are using it. We also know that they are using the Blackhole exploit kit as well as Pony stealer. This will allow us to create rules to detect the actions of the bot much quicker and ideally reduce the potential damage it can cause."
   ]
  },
  {
   "cell_type": "code",
   "execution_count": null,
   "metadata": {},
   "outputs": [],
   "source": []
  }
 ],
 "metadata": {
  "kernelspec": {
   "display_name": "Python 3",
   "language": "python",
   "name": "python3"
  },
  "language_info": {
   "codemirror_mode": {
    "name": "ipython",
    "version": 3
   },
   "file_extension": ".py",
   "mimetype": "text/x-python",
   "name": "python",
   "nbconvert_exporter": "python",
   "pygments_lexer": "ipython3",
   "version": "3.6.2"
  }
 },
 "nbformat": 4,
 "nbformat_minor": 2
}
